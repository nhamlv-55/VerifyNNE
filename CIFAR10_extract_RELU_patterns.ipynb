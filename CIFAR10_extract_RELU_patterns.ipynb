{
 "cells": [
  {
   "cell_type": "code",
   "execution_count": 8,
   "metadata": {},
   "outputs": [
    {
     "name": "stderr",
     "output_type": "stream",
     "text": [
      "/home/nle/anaconda3/envs/abc/lib/python3.7/site-packages/tensorflow/python/framework/dtypes.py:516: FutureWarning: Passing (type, 1) or '1type' as a synonym of type is deprecated; in a future version of numpy, it will be understood as (type, (1,)) / '(1,)type'.\n",
      "  _np_qint8 = np.dtype([(\"qint8\", np.int8, 1)])\n",
      "/home/nle/anaconda3/envs/abc/lib/python3.7/site-packages/tensorflow/python/framework/dtypes.py:517: FutureWarning: Passing (type, 1) or '1type' as a synonym of type is deprecated; in a future version of numpy, it will be understood as (type, (1,)) / '(1,)type'.\n",
      "  _np_quint8 = np.dtype([(\"quint8\", np.uint8, 1)])\n",
      "/home/nle/anaconda3/envs/abc/lib/python3.7/site-packages/tensorflow/python/framework/dtypes.py:518: FutureWarning: Passing (type, 1) or '1type' as a synonym of type is deprecated; in a future version of numpy, it will be understood as (type, (1,)) / '(1,)type'.\n",
      "  _np_qint16 = np.dtype([(\"qint16\", np.int16, 1)])\n",
      "/home/nle/anaconda3/envs/abc/lib/python3.7/site-packages/tensorflow/python/framework/dtypes.py:519: FutureWarning: Passing (type, 1) or '1type' as a synonym of type is deprecated; in a future version of numpy, it will be understood as (type, (1,)) / '(1,)type'.\n",
      "  _np_quint16 = np.dtype([(\"quint16\", np.uint16, 1)])\n",
      "/home/nle/anaconda3/envs/abc/lib/python3.7/site-packages/tensorflow/python/framework/dtypes.py:520: FutureWarning: Passing (type, 1) or '1type' as a synonym of type is deprecated; in a future version of numpy, it will be understood as (type, (1,)) / '(1,)type'.\n",
      "  _np_qint32 = np.dtype([(\"qint32\", np.int32, 1)])\n",
      "/home/nle/anaconda3/envs/abc/lib/python3.7/site-packages/tensorflow/python/framework/dtypes.py:525: FutureWarning: Passing (type, 1) or '1type' as a synonym of type is deprecated; in a future version of numpy, it will be understood as (type, (1,)) / '(1,)type'.\n",
      "  np_resource = np.dtype([(\"resource\", np.ubyte, 1)])\n",
      "/home/nle/anaconda3/envs/abc/lib/python3.7/site-packages/tensorboard/compat/tensorflow_stub/dtypes.py:541: FutureWarning: Passing (type, 1) or '1type' as a synonym of type is deprecated; in a future version of numpy, it will be understood as (type, (1,)) / '(1,)type'.\n",
      "  _np_qint8 = np.dtype([(\"qint8\", np.int8, 1)])\n",
      "/home/nle/anaconda3/envs/abc/lib/python3.7/site-packages/tensorboard/compat/tensorflow_stub/dtypes.py:542: FutureWarning: Passing (type, 1) or '1type' as a synonym of type is deprecated; in a future version of numpy, it will be understood as (type, (1,)) / '(1,)type'.\n",
      "  _np_quint8 = np.dtype([(\"quint8\", np.uint8, 1)])\n",
      "/home/nle/anaconda3/envs/abc/lib/python3.7/site-packages/tensorboard/compat/tensorflow_stub/dtypes.py:543: FutureWarning: Passing (type, 1) or '1type' as a synonym of type is deprecated; in a future version of numpy, it will be understood as (type, (1,)) / '(1,)type'.\n",
      "  _np_qint16 = np.dtype([(\"qint16\", np.int16, 1)])\n",
      "/home/nle/anaconda3/envs/abc/lib/python3.7/site-packages/tensorboard/compat/tensorflow_stub/dtypes.py:544: FutureWarning: Passing (type, 1) or '1type' as a synonym of type is deprecated; in a future version of numpy, it will be understood as (type, (1,)) / '(1,)type'.\n",
      "  _np_quint16 = np.dtype([(\"quint16\", np.uint16, 1)])\n",
      "/home/nle/anaconda3/envs/abc/lib/python3.7/site-packages/tensorboard/compat/tensorflow_stub/dtypes.py:545: FutureWarning: Passing (type, 1) or '1type' as a synonym of type is deprecated; in a future version of numpy, it will be understood as (type, (1,)) / '(1,)type'.\n",
      "  _np_qint32 = np.dtype([(\"qint32\", np.int32, 1)])\n",
      "/home/nle/anaconda3/envs/abc/lib/python3.7/site-packages/tensorboard/compat/tensorflow_stub/dtypes.py:550: FutureWarning: Passing (type, 1) or '1type' as a synonym of type is deprecated; in a future version of numpy, it will be understood as (type, (1,)) / '(1,)type'.\n",
      "  np_resource = np.dtype([(\"resource\", np.ubyte, 1)])\n"
     ]
    },
    {
     "name": "stdout",
     "output_type": "stream",
     "text": [
      "Downloading data from https://www.cs.toronto.edu/~kriz/cifar-10-python.tar.gz\n",
      "170500096/170498071 [==============================] - 21s 0us/step\n"
     ]
    }
   ],
   "source": [
    "#cifar 10 dataset\n",
    "import torch\n",
    "import torchvision\n",
    "import torchvision.transforms as transforms\n",
    "\n",
    "from tensorflow.keras import datasets, layers, models\n",
    "transform = transforms.Compose(\n",
    "    [transforms.ToTensor()])\n",
    "\n",
    "batch_size = 4\n",
    "\n",
    "(train_images, train_labels), (test_images, test_labels) = datasets.cifar10.load_data()\n",
    "# trainset = torchvision.datasets.CIFAR10(root='datasets/CIFAR10/', train=True,\n",
    "#                                         download=True, transform=transform)\n",
    "# trainloader = torch.utils.data.DataLoader(trainset, batch_size=batch_size,\n",
    "#                                           shuffle=True, num_workers=2)\n",
    "\n",
    "# testset = torchvision.datasets.CIFAR10(root='datasets/CIFAR10/', train=False,\n",
    "#                                        download=True, transform=transform)\n",
    "# testloader = torch.utils.data.DataLoader(testset, batch_size=batch_size,\n",
    "#                                          shuffle=False, num_workers=2)\n",
    "\n",
    "# classes = ('plane', 'car', 'bird', 'cat',\n",
    "#            'deer', 'dog', 'frog', 'horse', 'ship', 'truck')\n"
   ]
  },
  {
   "cell_type": "code",
   "execution_count": 2,
   "metadata": {},
   "outputs": [
    {
     "name": "stderr",
     "output_type": "stream",
     "text": [
      "/home/nle/opt/Marabou/maraboupy/Marabou.py:27: UserWarning: Tensorflow parser is unavailable because tensorflow package is not installed\n",
      "  warnings.warn(\"Tensorflow parser is unavailable because tensorflow package is not installed\")\n"
     ]
    },
    {
     "name": "stdout",
     "output_type": "stream",
     "text": [
      "ConvertModel(\n",
      "  (Conv_sequential_2/conv2d_4/BiasAdd:0): Conv2d(3, 32, kernel_size=(4, 4), stride=(2, 2))\n",
      "  (Relu_sequential_2/conv2d_4/Relu:0): ReLU(inplace=True)\n",
      "  (Conv_sequential_2/conv2d_5/BiasAdd:0): Conv2d(32, 64, kernel_size=(4, 4), stride=(2, 2))\n",
      "  (Relu_sequential_2/conv2d_5/Relu:0): ReLU(inplace=True)\n",
      "  (Reshape_sequential_2/flatten_2/Reshape:0): Reshape(shape=[  -1 2304])\n",
      "  (MatMul_sequential_2/dense_6/BiasAdd:0): Linear(in_features=2304, out_features=128, bias=True)\n",
      "  (Relu_sequential_2/dense_6/Relu:0): ReLU(inplace=True)\n",
      "  (MatMul_sequential_2/dense_7/BiasAdd:0): Linear(in_features=128, out_features=64, bias=True)\n",
      "  (Relu_sequential_2/dense_7/Relu:0): ReLU(inplace=True)\n",
      "  (MatMul_Identity:0): Linear(in_features=64, out_features=10, bias=True)\n",
      ")\n"
     ]
    },
    {
     "name": "stderr",
     "output_type": "stream",
     "text": [
      "/home/nle/anaconda3/envs/abc/lib/python3.7/site-packages/onnx2pytorch/convert/layer.py:25: UserWarning: The given NumPy array is not writeable, and PyTorch does not support non-writeable tensors. This means you can write to the underlying (supposedly non-writeable) NumPy array using the tensor. You may want to copy the array to protect its data or make it writeable before converting it to a tensor. This type of warning will be suppressed for the rest of this program. (Triggered internally at  /opt/conda/conda-bld/pytorch_1627336316785/work/torch/csrc/utils/tensor_numpy.cpp:143.)\n",
      "  layer.weight.data = torch.from_numpy(numpy_helper.to_array(weight))\n"
     ]
    }
   ],
   "source": [
    "\"\"\"\n",
    "Load a Marabou net for CIFAR 10\n",
    "\"\"\"\n",
    "from maraboupy import Marabou, MarabouCore, MarabouUtils\n",
    "from onnx2pytorch import ConvertModel\n",
    "import onnx\n",
    "import numpy as np\n",
    "\n",
    "PATH='datasets/CIFAR10/marabou-cifar10/nets/cifar10_large.onnx'\n",
    "marabou_network = Marabou.read_onnx(PATH)\n",
    "onnx_model = onnx.load(PATH)\n",
    "pytorch_model = ConvertModel(onnx_model)\n",
    "print(pytorch_model)\n",
    "\n",
    "\n"
   ]
  },
  {
   "cell_type": "code",
   "execution_count": 16,
   "metadata": {},
   "outputs": [
    {
     "name": "stdout",
     "output_type": "stream",
     "text": [
      "[[775  16  33  21  18   4   6  10  67  50]\n",
      " [ 12 833   3  10   3   2  11   2  24 100]\n",
      " [ 57   4 560  85 122  75  51  26   6  14]\n",
      " [ 10   5  47 563  66 212  42  22  14  19]\n",
      " [ 19   3  34  67 734  33  29  64  12   5]\n",
      " [ 14   2  29 154  55 687  12  37   5   5]\n",
      " [  7   5  24  77  50  28 796   3   4   6]\n",
      " [ 10   1  19  45  60  74   5 773   2  11]\n",
      " [ 34  31   7  18   4   3   3   5 863  32]\n",
      " [ 24  64   6  20   7   6   3  12  26 832]]\n",
      "0.7416\n"
     ]
    }
   ],
   "source": [
    "\"\"\"\n",
    "Check accuracy of the loaded model. Expected: 74.16%\n",
    "\"\"\"\n",
    "from sklearn.metrics import confusion_matrix, accuracy_score\n",
    "true_labels = []\n",
    "pred_labels = []\n",
    "for idx in range(len(test_images)):\n",
    "    input = (test_images[idx]/255).astype(np.float32).reshape(1,32,32,3)\n",
    "    # print(input, input.shape)\n",
    "    pred = pytorch_model(torch.Tensor(input))\n",
    "    # print(pred, np.argmax(pred), labels[idx])\n",
    "    true_labels.append(test_labels[idx])\n",
    "    if pred is not None:\n",
    "        pred_labels.append(torch.argmax(pred))\n",
    "    else:\n",
    "        pred_labels.append(-1)\n",
    "print(confusion_matrix(true_labels, pred_labels))\n",
    "print(accuracy_score(true_labels, pred_labels))"
   ]
  },
  {
   "cell_type": "code",
   "execution_count": null,
   "metadata": {},
   "outputs": [],
   "source": [
    "idx = 0\n",
    "input = (test_images[idx]/255).astype(np.float32).reshape(1,32,32,3)\n",
    "print(marabou_network.evaluate(input))\n",
    "print(pytorch_model(torch.Tensor(input)))\n",
    "marabou_network.reluList"
   ]
  },
  {
   "cell_type": "code",
   "execution_count": 20,
   "metadata": {},
   "outputs": [
    {
     "name": "stdout",
     "output_type": "stream",
     "text": [
      "10000\n"
     ]
    }
   ],
   "source": [
    "print(len(test_images))"
   ]
  }
 ],
 "metadata": {
  "kernelspec": {
   "display_name": "Python 3.7.11 ('abc')",
   "language": "python",
   "name": "python3"
  },
  "language_info": {
   "codemirror_mode": {
    "name": "ipython",
    "version": 3
   },
   "file_extension": ".py",
   "mimetype": "text/x-python",
   "name": "python",
   "nbconvert_exporter": "python",
   "pygments_lexer": "ipython3",
   "version": "3.7.11"
  },
  "orig_nbformat": 4,
  "vscode": {
   "interpreter": {
    "hash": "eaeb03013edc1e01ded2b62fc4f923950657015aa068eeb3171b619219008c44"
   }
  }
 },
 "nbformat": 4,
 "nbformat_minor": 2
}
