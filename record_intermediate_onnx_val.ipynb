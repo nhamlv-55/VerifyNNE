{
 "cells": [
  {
   "cell_type": "code",
   "execution_count": 2,
   "metadata": {},
   "outputs": [
    {
     "name": "stdout",
     "output_type": "stream",
     "text": [
      "['12']\n",
      "7\n",
      "8\n",
      "9\n",
      "10\n",
      "11\n",
      "['0']\n",
      "0\n"
     ]
    }
   ],
   "source": [
    "import onnxruntime as onnxrun\n",
    "import onnx\n",
    "from onnx.tools.net_drawer import GetPydotGraph, GetOpNodeProducer\n",
    "import numpy as np\n",
    "import torch\n",
    "import torchvision.datasets as datasets\n",
    "import torchvision.transforms as trans\n",
    "from torch.utils.data import DataLoader\n",
    "from torch.utils.data import sampler\n",
    "import os\n",
    "import pickle\n",
    "ONNX_MODEL_PATH = 'vnncomp2021/benchmarks/mnistfc/mnist-net_256x2.onnx'\n",
    "MODEL: onnx.ModelProto = onnx.load(ONNX_MODEL_PATH)\n",
    "\n",
    "pydot_graph = GetPydotGraph(MODEL.graph, name=MODEL.graph.name, rankdir=\"TB\",\n",
    "                            node_producer=GetOpNodeProducer(\"docstring\"))\n",
    "pydot_graph.write_dot(\"graph.dot\")\n",
    "\n",
    "\"\"\"\n",
    "Save immediate output to the graph\n",
    "\"\"\"\n",
    "SESS = onnxrun.InferenceSession(ONNX_MODEL_PATH)\n",
    "original_output = [x.name for x in SESS.get_outputs()]\n",
    "print(original_output)\n",
    "for node in MODEL.graph.node:\n",
    "    for output in node.output:\n",
    "        if output not in original_output:\n",
    "            print(output)\n",
    "            MODEL.graph.output.extend([onnx.ValueInfoProto(name=output)])\n",
    "\n",
    "#inference session\n",
    "inf_session = onnxrun.InferenceSession(MODEL.SerializeToString())\n",
    "outputs = [x.name for x in inf_session.get_outputs()]\n",
    "inputs = [x.name for x in inf_session.get_inputs()]\n",
    "print(inputs)\n",
    "input_name = inputs[0]\n",
    "print(input_name)\n",
    "\n",
    "#load data\n",
    "trns_norm = trans.ToTensor()\n",
    "mnist_train = datasets.MNIST('datasets/MNIST/', train=True, download=False, transform=trns_norm)\n",
    "train_loader = DataLoader(mnist_train, batch_size=50000)\n",
    "images, labels = next(iter(train_loader))\n",
    "\n",
    "#init pickle dict that contains all immediate values\n",
    "immediate_values = {}\n",
    "for output in outputs:\n",
    "    immediate_values[output] = []\n",
    "\n",
    "correct = 0\n",
    "for idx in range(images.shape[0]):\n",
    "    result = inf_session.run(outputs, {input_name: images[idx].numpy().reshape(1, 784, 1)})\n",
    "    #save output and immediate values\n",
    "    for o_idx in range(len(result)):\n",
    "        immediate_values[outputs[o_idx]].append(result[o_idx].squeeze())\n",
    "    # print(result)\n",
    "    pred = np.argmax(result[0])\n",
    "    if pred == labels[idx]:\n",
    "        correct+=1\n",
    "    "
   ]
  },
  {
   "cell_type": "code",
   "execution_count": 3,
   "metadata": {},
   "outputs": [
    {
     "name": "stdout",
     "output_type": "stream",
     "text": [
      "(50000, 10)\n",
      "(50000, 784)\n",
      "(50000, 256)\n",
      "(50000, 256)\n",
      "(50000, 256)\n",
      "(50000, 256)\n"
     ]
    }
   ],
   "source": [
    "#repack immediate values to numpy 2d array\n",
    "for output in immediate_values:\n",
    "    immediate_values[output] = np.array(immediate_values[output])\n",
    "    print(immediate_values[output].shape)"
   ]
  },
  {
   "cell_type": "code",
   "execution_count": null,
   "metadata": {},
   "outputs": [],
   "source": [
    "#save pickle\n",
    "with open(os.path.basename(ONNX_MODEL_PATH)+\".immediate_values.pickle\", 'wb') as handle:\n",
    "    pickle.dump(immediate_values, handle, protocol=pickle.HIGHEST_PROTOCOL)"
   ]
  }
 ],
 "metadata": {
  "kernelspec": {
   "display_name": "abc",
   "language": "python",
   "name": "python3"
  },
  "language_info": {
   "codemirror_mode": {
    "name": "ipython",
    "version": 3
   },
   "file_extension": ".py",
   "mimetype": "text/x-python",
   "name": "python",
   "nbconvert_exporter": "python",
   "pygments_lexer": "ipython3",
   "version": "3.7.11"
  },
  "orig_nbformat": 4
 },
 "nbformat": 4,
 "nbformat_minor": 2
}
