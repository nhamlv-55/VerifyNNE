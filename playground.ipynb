{
 "cells": [
  {
   "cell_type": "code",
   "execution_count": 2,
   "metadata": {},
   "outputs": [
    {
     "name": "stdout",
     "output_type": "stream",
     "text": [
      "[19791.091, 0.0, 0.0, 650.0, 600.0, 7.5188840201005975]\n",
      "min [0.0, -3.141593, -3.141593, 100.0, 0.0]\n",
      "max [60760.0, 3.141593, 3.141593, 1200.0, 1200.0]\n",
      "torch.Size([10000, 5]) torch.Size([10000])\n",
      "<torch.utils.data.dataset.TensorDataset object at 0x7f5c9fc737d0>\n",
      "              precision    recall  f1-score   support\n",
      "\n",
      "           0       1.00      1.00      1.00      2000\n",
      "           1       1.00      1.00      1.00      2000\n",
      "           2       1.00      1.00      1.00      2000\n",
      "           3       1.00      1.00      1.00      2000\n",
      "           4       1.00      1.00      1.00      2000\n",
      "\n",
      "    accuracy                           1.00     10000\n",
      "   macro avg       1.00      1.00      1.00     10000\n",
      "weighted avg       1.00      1.00      1.00     10000\n",
      "\n"
     ]
    }
   ],
   "source": [
    "from typing import Tuple, List\n",
    "from AcasXuNet import AcasXu\n",
    "import torch\n",
    "from torch import Tensor\n",
    "from torch.utils.data import TensorDataset, DataLoader\n",
    "from sklearn.metrics import classification_report\n",
    "PATH = '/home/nle/workspace/VerifyNNE/datasets/ACAS/acas_nets/ACASXU_run2a_1_1_batch_2000.nnet'\n",
    "network = AcasXu(PATH)\n",
    "print(network.means)\n",
    "print(\"min\", network.mins)\n",
    "print(\"max\", network.maxs)\n",
    "dataset: Tuple[Tensor] = torch.load('/home/nle/workspace/VerifyNNE/datasets/ACAS/acas_nets/AcasNetID<1,1>-normed-train.pt')\n",
    "\n",
    "dataset_train = TensorDataset(dataset[0], dataset[1])\n",
    "print(dataset[0].shape, dataset[1].shape)\n",
    "print(dataset_train)\n",
    "\n",
    "loader = DataLoader(dataset_train, batch_size=2000, shuffle=True)\n",
    "\n",
    "all_preds: List[int] = []\n",
    "true_labels: List[int] = []\n",
    "for inputs, outputs in loader:\n",
    "    raw_pred = network(inputs)\n",
    "    pred: List[int] = torch.argmin(raw_pred, dim = 1).squeeze().tolist()\n",
    "    all_preds.extend(pred)\n",
    "    true_labels.extend(outputs.squeeze().tolist())\n",
    "\n",
    "print(classification_report(true_labels, all_preds))\n"
   ]
  }
 ],
 "metadata": {
  "kernelspec": {
   "display_name": "Python 3.7.11 ('abc')",
   "language": "python",
   "name": "python3"
  },
  "language_info": {
   "codemirror_mode": {
    "name": "ipython",
    "version": 3
   },
   "file_extension": ".py",
   "mimetype": "text/x-python",
   "name": "python",
   "nbconvert_exporter": "python",
   "pygments_lexer": "ipython3",
   "version": "3.7.11"
  },
  "orig_nbformat": 4,
  "vscode": {
   "interpreter": {
    "hash": "eaeb03013edc1e01ded2b62fc4f923950657015aa068eeb3171b619219008c44"
   }
  }
 },
 "nbformat": 4,
 "nbformat_minor": 2
}
